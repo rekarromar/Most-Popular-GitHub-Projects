{
  "cells": [
    {
      "cell_type": "markdown",
      "metadata": {
        "id": "view-in-github",
        "colab_type": "text"
      },
      "source": [
        "<a href=\"https://colab.research.google.com/github/rekarromar/Most-Popular-GitHub-Projects/blob/main/MostPopularGithubRepos.ipynb\" target=\"_parent\"><img src=\"https://colab.research.google.com/assets/colab-badge.svg\" alt=\"Open In Colab\"/></a>"
      ]
    },
    {
      "cell_type": "code",
      "execution_count": 3,
      "id": "3f12ff72",
      "metadata": {
        "id": "3f12ff72"
      },
      "outputs": [],
      "source": [
        "import pandas as pd\n",
        "import numpy as np\n",
        "import matplotlib.pyplot as plt\n",
        "import seaborn as sns\n",
        "\n",
        "url = 'https://raw.githubusercontent.com/rekarromar/Most-Popular-GitHub-Projects/main/MostPopularGitHubRepos.csv'\n",
        "data = pd.read_csv(url)"
      ]
    },
    {
      "cell_type": "code",
      "source": [
        "most_starred = data.sort_values(by=['Stars'], ascending=False).head(10)\n",
        "print(most_starred[['Name', 'Language', 'Stars']])"
      ],
      "metadata": {
        "id": "PJFrDnBNcLyP",
        "outputId": "8200a7a4-6616-4075-92f5-f9058a172fd1",
        "colab": {
          "base_uri": "https://localhost:8080/"
        }
      },
      "id": "PJFrDnBNcLyP",
      "execution_count": 5,
      "outputs": [
        {
          "output_type": "stream",
          "name": "stdout",
          "text": [
            "                        Name    Language   Stars\n",
            "0  freeCodeCamp/freeCodeCamp  JavaScript  224136\n",
            "1             twbs/bootstrap  JavaScript  105991\n",
            "2                      d3/d3  JavaScript   59462\n",
            "3             facebook/react  JavaScript   58176\n",
            "4         angular/angular.js  JavaScript   54439\n",
            "5    getify/You-Dont-Know-JS  JavaScript   49828\n",
            "6     robbyrussell/oh-my-zsh       Shell   48136\n",
            "7   FortAwesome/Font-Awesome        HTML   47865\n",
            "8          airbnb/javascript  JavaScript   46155\n",
            "9      tensorflow/tensorflow         C++   43721\n"
          ]
        }
      ]
    },
    {
      "cell_type": "code",
      "source": [
        "languages = data.groupby(['Language']).size().reset_index(name='Count')\n",
        "\n",
        "# sort the result by the number of repositories in descending order and display the top 10\n",
        "most_common_languages = languages.sort_values(by=['Count'], ascending=False).head(10)\n",
        "print(most_common_languages)"
      ],
      "metadata": {
        "id": "z9mkU4cIc8oc",
        "outputId": "5a48e4b0-496d-4d18-ff01-6b73c9f75674",
        "colab": {
          "base_uri": "https://localhost:8080/"
        }
      },
      "id": "z9mkU4cIc8oc",
      "execution_count": 6,
      "outputs": [
        {
          "output_type": "stream",
          "name": "stdout",
          "text": [
            "      Language  Count\n",
            "12  JavaScript    123\n",
            "18      Python     26\n",
            "11        Java     19\n",
            "10        HTML     18\n",
            "19        Ruby     15\n",
            "5          CSS     14\n",
            "9           Go     11\n",
            "4          C++     11\n",
            "23       Swift     10\n",
            "2            C     10\n"
          ]
        }
      ]
    },
    {
      "cell_type": "code",
      "source": [
        "most_forked = data.loc[data.groupby(['Language'])['Forks'].idxmax()].sort_values(by=['Language', 'Forks'], ascending=False)\n",
        "most_forked.head(10)"
      ],
      "metadata": {
        "id": "LmbVrJYcdAqs",
        "outputId": "8f833158-cdc0-436b-d654-e92919e84567",
        "colab": {
          "base_uri": "https://localhost:8080/",
          "height": 407
        }
      },
      "id": "LmbVrJYcdAqs",
      "execution_count": 9,
      "outputs": [
        {
          "output_type": "execute_result",
          "data": {
            "text/plain": [
              "                        Name  Stars  Forks       Language  \\\n",
              "281    altercation/solarized  10599   2851           VimL   \n",
              "38            driftyco/ionic  27631   6566     TypeScript   \n",
              "65       Alamofire/Alamofire  21612   3724          Swift   \n",
              "6     robbyrussell/oh-my-zsh  48136  11625          Shell   \n",
              "238             apache/spark  11485  10760          Scala   \n",
              "76            rust-lang/rust  20090   3808           Rust   \n",
              "20               rails/rails  34188  13896           Ruby   \n",
              "124  shadowsocks/shadowsocks  16017   9980         Python   \n",
              "32           laravel/laravel  28856   9543            PHP   \n",
              "106             facebook/pop  17078   2724  Objective-C++   \n",
              "\n",
              "                                           Description  \\\n",
              "281  precision color scheme for multiple applicatio...   \n",
              "38   Build amazing native and progressive web apps ...   \n",
              "65                    Elegant HTTP Networking in Swift   \n",
              "6    A delightful community-driven (with 1,000+ con...   \n",
              "238                             Mirror of Apache Spark   \n",
              "76             A safe, concurrent, practical language.   \n",
              "20                                       Ruby on Rails   \n",
              "124                                                NaN   \n",
              "32                    A PHP Framework For Web Artisans   \n",
              "106  An extensible iOS and OS X animation library, ...   \n",
              "\n",
              "                                            URL  \\\n",
              "281    https://github.com/altercation/solarized   \n",
              "38            https://github.com/driftyco/ionic   \n",
              "65       https://github.com/Alamofire/Alamofire   \n",
              "6     https://github.com/robbyrussell/oh-my-zsh   \n",
              "238             https://github.com/apache/spark   \n",
              "76            https://github.com/rust-lang/rust   \n",
              "20               https://github.com/rails/rails   \n",
              "124  https://github.com/shadowsocks/shadowsocks   \n",
              "32           https://github.com/laravel/laravel   \n",
              "106             https://github.com/facebook/pop   \n",
              "\n",
              "                               Domain Growth Pattern  \n",
              "281              Application software           Slow  \n",
              "38       Web libraries and frameworks       Moderate  \n",
              "65   Non-web libraries and frameworks       Moderate  \n",
              "6                      Software tools            NaN  \n",
              "238                    Software tools       Moderate  \n",
              "76                    System software       Moderate  \n",
              "20       Web libraries and frameworks           Slow  \n",
              "124                    Software tools       Moderate  \n",
              "32       Web libraries and frameworks       Moderate  \n",
              "106  Non-web libraries and frameworks       Moderate  "
            ],
            "text/html": [
              "\n",
              "  <div id=\"df-6f6f57c7-3ea0-443d-b33f-4920667c9b89\">\n",
              "    <div class=\"colab-df-container\">\n",
              "      <div>\n",
              "<style scoped>\n",
              "    .dataframe tbody tr th:only-of-type {\n",
              "        vertical-align: middle;\n",
              "    }\n",
              "\n",
              "    .dataframe tbody tr th {\n",
              "        vertical-align: top;\n",
              "    }\n",
              "\n",
              "    .dataframe thead th {\n",
              "        text-align: right;\n",
              "    }\n",
              "</style>\n",
              "<table border=\"1\" class=\"dataframe\">\n",
              "  <thead>\n",
              "    <tr style=\"text-align: right;\">\n",
              "      <th></th>\n",
              "      <th>Name</th>\n",
              "      <th>Stars</th>\n",
              "      <th>Forks</th>\n",
              "      <th>Language</th>\n",
              "      <th>Description</th>\n",
              "      <th>URL</th>\n",
              "      <th>Domain</th>\n",
              "      <th>Growth Pattern</th>\n",
              "    </tr>\n",
              "  </thead>\n",
              "  <tbody>\n",
              "    <tr>\n",
              "      <th>281</th>\n",
              "      <td>altercation/solarized</td>\n",
              "      <td>10599</td>\n",
              "      <td>2851</td>\n",
              "      <td>VimL</td>\n",
              "      <td>precision color scheme for multiple applicatio...</td>\n",
              "      <td>https://github.com/altercation/solarized</td>\n",
              "      <td>Application software</td>\n",
              "      <td>Slow</td>\n",
              "    </tr>\n",
              "    <tr>\n",
              "      <th>38</th>\n",
              "      <td>driftyco/ionic</td>\n",
              "      <td>27631</td>\n",
              "      <td>6566</td>\n",
              "      <td>TypeScript</td>\n",
              "      <td>Build amazing native and progressive web apps ...</td>\n",
              "      <td>https://github.com/driftyco/ionic</td>\n",
              "      <td>Web libraries and frameworks</td>\n",
              "      <td>Moderate</td>\n",
              "    </tr>\n",
              "    <tr>\n",
              "      <th>65</th>\n",
              "      <td>Alamofire/Alamofire</td>\n",
              "      <td>21612</td>\n",
              "      <td>3724</td>\n",
              "      <td>Swift</td>\n",
              "      <td>Elegant HTTP Networking in Swift</td>\n",
              "      <td>https://github.com/Alamofire/Alamofire</td>\n",
              "      <td>Non-web libraries and frameworks</td>\n",
              "      <td>Moderate</td>\n",
              "    </tr>\n",
              "    <tr>\n",
              "      <th>6</th>\n",
              "      <td>robbyrussell/oh-my-zsh</td>\n",
              "      <td>48136</td>\n",
              "      <td>11625</td>\n",
              "      <td>Shell</td>\n",
              "      <td>A delightful community-driven (with 1,000+ con...</td>\n",
              "      <td>https://github.com/robbyrussell/oh-my-zsh</td>\n",
              "      <td>Software tools</td>\n",
              "      <td>NaN</td>\n",
              "    </tr>\n",
              "    <tr>\n",
              "      <th>238</th>\n",
              "      <td>apache/spark</td>\n",
              "      <td>11485</td>\n",
              "      <td>10760</td>\n",
              "      <td>Scala</td>\n",
              "      <td>Mirror of Apache Spark</td>\n",
              "      <td>https://github.com/apache/spark</td>\n",
              "      <td>Software tools</td>\n",
              "      <td>Moderate</td>\n",
              "    </tr>\n",
              "    <tr>\n",
              "      <th>76</th>\n",
              "      <td>rust-lang/rust</td>\n",
              "      <td>20090</td>\n",
              "      <td>3808</td>\n",
              "      <td>Rust</td>\n",
              "      <td>A safe, concurrent, practical language.</td>\n",
              "      <td>https://github.com/rust-lang/rust</td>\n",
              "      <td>System software</td>\n",
              "      <td>Moderate</td>\n",
              "    </tr>\n",
              "    <tr>\n",
              "      <th>20</th>\n",
              "      <td>rails/rails</td>\n",
              "      <td>34188</td>\n",
              "      <td>13896</td>\n",
              "      <td>Ruby</td>\n",
              "      <td>Ruby on Rails</td>\n",
              "      <td>https://github.com/rails/rails</td>\n",
              "      <td>Web libraries and frameworks</td>\n",
              "      <td>Slow</td>\n",
              "    </tr>\n",
              "    <tr>\n",
              "      <th>124</th>\n",
              "      <td>shadowsocks/shadowsocks</td>\n",
              "      <td>16017</td>\n",
              "      <td>9980</td>\n",
              "      <td>Python</td>\n",
              "      <td>NaN</td>\n",
              "      <td>https://github.com/shadowsocks/shadowsocks</td>\n",
              "      <td>Software tools</td>\n",
              "      <td>Moderate</td>\n",
              "    </tr>\n",
              "    <tr>\n",
              "      <th>32</th>\n",
              "      <td>laravel/laravel</td>\n",
              "      <td>28856</td>\n",
              "      <td>9543</td>\n",
              "      <td>PHP</td>\n",
              "      <td>A PHP Framework For Web Artisans</td>\n",
              "      <td>https://github.com/laravel/laravel</td>\n",
              "      <td>Web libraries and frameworks</td>\n",
              "      <td>Moderate</td>\n",
              "    </tr>\n",
              "    <tr>\n",
              "      <th>106</th>\n",
              "      <td>facebook/pop</td>\n",
              "      <td>17078</td>\n",
              "      <td>2724</td>\n",
              "      <td>Objective-C++</td>\n",
              "      <td>An extensible iOS and OS X animation library, ...</td>\n",
              "      <td>https://github.com/facebook/pop</td>\n",
              "      <td>Non-web libraries and frameworks</td>\n",
              "      <td>Moderate</td>\n",
              "    </tr>\n",
              "  </tbody>\n",
              "</table>\n",
              "</div>\n",
              "      <button class=\"colab-df-convert\" onclick=\"convertToInteractive('df-6f6f57c7-3ea0-443d-b33f-4920667c9b89')\"\n",
              "              title=\"Convert this dataframe to an interactive table.\"\n",
              "              style=\"display:none;\">\n",
              "        \n",
              "  <svg xmlns=\"http://www.w3.org/2000/svg\" height=\"24px\"viewBox=\"0 0 24 24\"\n",
              "       width=\"24px\">\n",
              "    <path d=\"M0 0h24v24H0V0z\" fill=\"none\"/>\n",
              "    <path d=\"M18.56 5.44l.94 2.06.94-2.06 2.06-.94-2.06-.94-.94-2.06-.94 2.06-2.06.94zm-11 1L8.5 8.5l.94-2.06 2.06-.94-2.06-.94L8.5 2.5l-.94 2.06-2.06.94zm10 10l.94 2.06.94-2.06 2.06-.94-2.06-.94-.94-2.06-.94 2.06-2.06.94z\"/><path d=\"M17.41 7.96l-1.37-1.37c-.4-.4-.92-.59-1.43-.59-.52 0-1.04.2-1.43.59L10.3 9.45l-7.72 7.72c-.78.78-.78 2.05 0 2.83L4 21.41c.39.39.9.59 1.41.59.51 0 1.02-.2 1.41-.59l7.78-7.78 2.81-2.81c.8-.78.8-2.07 0-2.86zM5.41 20L4 18.59l7.72-7.72 1.47 1.35L5.41 20z\"/>\n",
              "  </svg>\n",
              "      </button>\n",
              "      \n",
              "  <style>\n",
              "    .colab-df-container {\n",
              "      display:flex;\n",
              "      flex-wrap:wrap;\n",
              "      gap: 12px;\n",
              "    }\n",
              "\n",
              "    .colab-df-convert {\n",
              "      background-color: #E8F0FE;\n",
              "      border: none;\n",
              "      border-radius: 50%;\n",
              "      cursor: pointer;\n",
              "      display: none;\n",
              "      fill: #1967D2;\n",
              "      height: 32px;\n",
              "      padding: 0 0 0 0;\n",
              "      width: 32px;\n",
              "    }\n",
              "\n",
              "    .colab-df-convert:hover {\n",
              "      background-color: #E2EBFA;\n",
              "      box-shadow: 0px 1px 2px rgba(60, 64, 67, 0.3), 0px 1px 3px 1px rgba(60, 64, 67, 0.15);\n",
              "      fill: #174EA6;\n",
              "    }\n",
              "\n",
              "    [theme=dark] .colab-df-convert {\n",
              "      background-color: #3B4455;\n",
              "      fill: #D2E3FC;\n",
              "    }\n",
              "\n",
              "    [theme=dark] .colab-df-convert:hover {\n",
              "      background-color: #434B5C;\n",
              "      box-shadow: 0px 1px 3px 1px rgba(0, 0, 0, 0.15);\n",
              "      filter: drop-shadow(0px 1px 2px rgba(0, 0, 0, 0.3));\n",
              "      fill: #FFFFFF;\n",
              "    }\n",
              "  </style>\n",
              "\n",
              "      <script>\n",
              "        const buttonEl =\n",
              "          document.querySelector('#df-6f6f57c7-3ea0-443d-b33f-4920667c9b89 button.colab-df-convert');\n",
              "        buttonEl.style.display =\n",
              "          google.colab.kernel.accessAllowed ? 'block' : 'none';\n",
              "\n",
              "        async function convertToInteractive(key) {\n",
              "          const element = document.querySelector('#df-6f6f57c7-3ea0-443d-b33f-4920667c9b89');\n",
              "          const dataTable =\n",
              "            await google.colab.kernel.invokeFunction('convertToInteractive',\n",
              "                                                     [key], {});\n",
              "          if (!dataTable) return;\n",
              "\n",
              "          const docLinkHtml = 'Like what you see? Visit the ' +\n",
              "            '<a target=\"_blank\" href=https://colab.research.google.com/notebooks/data_table.ipynb>data table notebook</a>'\n",
              "            + ' to learn more about interactive tables.';\n",
              "          element.innerHTML = '';\n",
              "          dataTable['output_type'] = 'display_data';\n",
              "          await google.colab.output.renderOutput(dataTable, element);\n",
              "          const docLink = document.createElement('div');\n",
              "          docLink.innerHTML = docLinkHtml;\n",
              "          element.appendChild(docLink);\n",
              "        }\n",
              "      </script>\n",
              "    </div>\n",
              "  </div>\n",
              "  "
            ]
          },
          "metadata": {},
          "execution_count": 9
        }
      ]
    },
    {
      "cell_type": "code",
      "source": [],
      "metadata": {
        "id": "6LOArKSHdcIq"
      },
      "id": "6LOArKSHdcIq",
      "execution_count": 10,
      "outputs": []
    },
    {
      "cell_type": "code",
      "execution_count": null,
      "id": "975e2fff",
      "metadata": {
        "id": "975e2fff",
        "colab": {
          "base_uri": "https://localhost:8080/",
          "height": 853
        },
        "outputId": "ed10f5d5-0387-4755-dc48-8013717b5b7e"
      },
      "outputs": [
        {
          "output_type": "display_data",
          "data": {
            "text/plain": [
              "<Figure size 1000x1000 with 1 Axes>"
            ],
            "image/png": "[encoded data removed]"
          },
          "metadata": {}
        }
      ],
      "source": [
        "mydata.hist(['Stars'],figsize=(10,10))\n",
        "plt.show()\n"
      ]
    },
    {
      "cell_type": "code",
      "execution_count": null,
      "id": "582e9fad",
      "metadata": {
        "id": "582e9fad",
        "colab": {
          "base_uri": "https://localhost:8080/",
          "height": 530
        },
        "outputId": "f3cd426c-7ffa-4c36-b3c9-5e3d075bf476"
      },
      "outputs": [
        {
          "output_type": "execute_result",
          "data": {
            "text/plain": [
              "<seaborn.axisgrid.PairGrid at 0x7ff5360e94f0>"
            ]
          },
          "metadata": {},
          "execution_count": 18
        },
        {
          "output_type": "display_data",
          "data": {
            "text/plain": [
              "<Figure size 500x500 with 6 Axes>"
            ],
            "image/png": "[encoded data removed]"
          },
          "metadata": {}
        }
      ],
      "source": [
        "sns.pairplot(mydata)"
      ]
    },
    {
      "cell_type": "code",
      "source": [
        "sns.distplot(mydata['Stars'])"
      ],
      "metadata": {
        "colab": {
          "base_uri": "https://localhost:8080/",
          "height": 657
        },
        "id": "q1JiHHHpBSW3",
        "outputId": "10a39066-fbab-47e7-f4ea-527e7dd2e8aa"
      },
      "id": "q1JiHHHpBSW3",
      "execution_count": null,
      "outputs": [
        {
          "output_type": "stream",
          "name": "stderr",
          "text": [
            "<ipython-input-19-557186410a36>:1: UserWarning: \n",
            "\n",
            "`distplot` is a deprecated function and will be removed in seaborn v0.14.0.\n",
            "\n",
            "Please adapt your code to use either `displot` (a figure-level function with\n",
            "similar flexibility) or `histplot` (an axes-level function for histograms).\n",
            "\n",
            "For a guide to updating your code to use the new functions, please see\n",
            "https://gist.github.com/mwaskom/de44147ed2974457ad6372750bbe5751\n",
            "\n",
            "  sns.distplot(mydata['Stars'])\n"
          ]
        },
        {
          "output_type": "execute_result",
          "data": {
            "text/plain": [
              "<Axes: xlabel='Stars', ylabel='Density'>"
            ]
          },
          "metadata": {},
          "execution_count": 19
        },
        {
          "output_type": "display_data",
          "data": {
            "text/plain": [
              "<Figure size 640x480 with 1 Axes>"
            ],
            "image/png": "[encoded data removed]"
          },
          "metadata": {}
        }
      ]
    },
    {
      "cell_type": "code",
      "source": [
        "corr = mydata.corr()\n",
        "corr"
      ],
      "metadata": {
        "colab": {
          "base_uri": "https://localhost:8080/",
          "height": 112
        },
        "id": "9tvGIs39Bt8w",
        "outputId": "46cb2924-1590-48a6-d904-3286b11e1842"
      },
      "id": "9tvGIs39Bt8w",
      "execution_count": null,
      "outputs": [
        {
          "output_type": "execute_result",
          "data": {
            "text/plain": [
              "          Stars     Forks\n",
              "Stars  1.000000  0.557185\n",
              "Forks  0.557185  1.000000"
            ],
            "text/html": [
              "\n",
              "  <div id=\"df-d57c5d14-3542-4d4e-ab51-05dbeebfdc50\">\n",
              "    <div class=\"colab-df-container\">\n",
              "      <div>\n",
              "<style scoped>\n",
              "    .dataframe tbody tr th:only-of-type {\n",
              "        vertical-align: middle;\n",
              "    }\n",
              "\n",
              "    .dataframe tbody tr th {\n",
              "        vertical-align: top;\n",
              "    }\n",
              "\n",
              "    .dataframe thead th {\n",
              "        text-align: right;\n",
              "    }\n",
              "</style>\n",
              "<table border=\"1\" class=\"dataframe\">\n",
              "  <thead>\n",
              "    <tr style=\"text-align: right;\">\n",
              "      <th></th>\n",
              "      <th>Stars</th>\n",
              "      <th>Forks</th>\n",
              "    </tr>\n",
              "  </thead>\n",
              "  <tbody>\n",
              "    <tr>\n",
              "      <th>Stars</th>\n",
              "      <td>1.000000</td>\n",
              "      <td>0.557185</td>\n",
              "    </tr>\n",
              "    <tr>\n",
              "      <th>Forks</th>\n",
              "      <td>0.557185</td>\n",
              "      <td>1.000000</td>\n",
              "    </tr>\n",
              "  </tbody>\n",
              "</table>\n",
              "</div>\n",
              "      <button class=\"colab-df-convert\" onclick=\"convertToInteractive('df-d57c5d14-3542-4d4e-ab51-05dbeebfdc50')\"\n",
              "              title=\"Convert this dataframe to an interactive table.\"\n",
              "              style=\"display:none;\">\n",
              "        \n",
              "  <svg xmlns=\"http://www.w3.org/2000/svg\" height=\"24px\"viewBox=\"0 0 24 24\"\n",
              "       width=\"24px\">\n",
              "    <path d=\"M0 0h24v24H0V0z\" fill=\"none\"/>\n",
              "    <path d=\"M18.56 5.44l.94 2.06.94-2.06 2.06-.94-2.06-.94-.94-2.06-.94 2.06-2.06.94zm-11 1L8.5 8.5l.94-2.06 2.06-.94-2.06-.94L8.5 2.5l-.94 2.06-2.06.94zm10 10l.94 2.06.94-2.06 2.06-.94-2.06-.94-.94-2.06-.94 2.06-2.06.94z\"/><path d=\"M17.41 7.96l-1.37-1.37c-.4-.4-.92-.59-1.43-.59-.52 0-1.04.2-1.43.59L10.3 9.45l-7.72 7.72c-.78.78-.78 2.05 0 2.83L4 21.41c.39.39.9.59 1.41.59.51 0 1.02-.2 1.41-.59l7.78-7.78 2.81-2.81c.8-.78.8-2.07 0-2.86zM5.41 20L4 18.59l7.72-7.72 1.47 1.35L5.41 20z\"/>\n",
              "  </svg>\n",
              "      </button>\n",
              "      \n",
              "  <style>\n",
              "    .colab-df-container {\n",
              "      display:flex;\n",
              "      flex-wrap:wrap;\n",
              "      gap: 12px;\n",
              "    }\n",
              "\n",
              "    .colab-df-convert {\n",
              "      background-color: #E8F0FE;\n",
              "      border: none;\n",
              "      border-radius: 50%;\n",
              "      cursor: pointer;\n",
              "      display: none;\n",
              "      fill: #1967D2;\n",
              "      height: 32px;\n",
              "      padding: 0 0 0 0;\n",
              "      width: 32px;\n",
              "    }\n",
              "\n",
              "    .colab-df-convert:hover {\n",
              "      background-color: #E2EBFA;\n",
              "      box-shadow: 0px 1px 2px rgba(60, 64, 67, 0.3), 0px 1px 3px 1px rgba(60, 64, 67, 0.15);\n",
              "      fill: #174EA6;\n",
              "    }\n",
              "\n",
              "    [theme=dark] .colab-df-convert {\n",
              "      background-color: #3B4455;\n",
              "      fill: #D2E3FC;\n",
              "    }\n",
              "\n",
              "    [theme=dark] .colab-df-convert:hover {\n",
              "      background-color: #434B5C;\n",
              "      box-shadow: 0px 1px 3px 1px rgba(0, 0, 0, 0.15);\n",
              "      filter: drop-shadow(0px 1px 2px rgba(0, 0, 0, 0.3));\n",
              "      fill: #FFFFFF;\n",
              "    }\n",
              "  </style>\n",
              "\n",
              "      <script>\n",
              "        const buttonEl =\n",
              "          document.querySelector('#df-d57c5d14-3542-4d4e-ab51-05dbeebfdc50 button.colab-df-convert');\n",
              "        buttonEl.style.display =\n",
              "          google.colab.kernel.accessAllowed ? 'block' : 'none';\n",
              "\n",
              "        async function convertToInteractive(key) {\n",
              "          const element = document.querySelector('#df-d57c5d14-3542-4d4e-ab51-05dbeebfdc50');\n",
              "          const dataTable =\n",
              "            await google.colab.kernel.invokeFunction('convertToInteractive',\n",
              "                                                     [key], {});\n",
              "          if (!dataTable) return;\n",
              "\n",
              "          const docLinkHtml = 'Like what you see? Visit the ' +\n",
              "            '<a target=\"_blank\" href=https://colab.research.google.com/notebooks/data_table.ipynb>data table notebook</a>'\n",
              "            + ' to learn more about interactive tables.';\n",
              "          element.innerHTML = '';\n",
              "          dataTable['output_type'] = 'display_data';\n",
              "          await google.colab.output.renderOutput(dataTable, element);\n",
              "          const docLink = document.createElement('div');\n",
              "          docLink.innerHTML = docLinkHtml;\n",
              "          element.appendChild(docLink);\n",
              "        }\n",
              "      </script>\n",
              "    </div>\n",
              "  </div>\n",
              "  "
            ]
          },
          "metadata": {},
          "execution_count": 21
        }
      ]
    },
    {
      "cell_type": "code",
      "source": [
        "sns.heatmap(corr, annot=True)"
      ],
      "metadata": {
        "colab": {
          "base_uri": "https://localhost:8080/",
          "height": 452
        },
        "id": "qt6u-qT5B0vF",
        "outputId": "d6fe7934-af10-458d-cb86-a7073c588c18"
      },
      "id": "qt6u-qT5B0vF",
      "execution_count": null,
      "outputs": [
        {
          "output_type": "execute_result",
          "data": {
            "text/plain": [
              "<Axes: >"
            ]
          },
          "metadata": {},
          "execution_count": 22
        },
        {
          "output_type": "display_data",
          "data": {
            "text/plain": [
              "<Figure size 640x480 with 2 Axes>"
            ],
            "image/png": "[encoded data removed]"
          },
          "metadata": {}
        }
      ]
    }
  ],
  "metadata": {
    "colab": {
      "provenance": [],
      "include_colab_link": true
    },
    "kernelspec": {
      "display_name": "Python 3 (ipykernel)",
      "language": "python",
      "name": "python3"
    },
    "language_info": {
      "codemirror_mode": {
        "name": "ipython",
        "version": 3
      },
      "file_extension": ".py",
      "mimetype": "text/x-python",
      "name": "python",
      "nbconvert_exporter": "python",
      "pygments_lexer": "ipython3",
      "version": "3.9.13"
    },
    "vscode": {
      "interpreter": {
        "hash": "4f301003b383401a969b4d1af32bbe726483fddd7829117a00f5571fed20d5b4"
      }
    }
  },
  "nbformat": 4,
  "nbformat_minor": 5
}